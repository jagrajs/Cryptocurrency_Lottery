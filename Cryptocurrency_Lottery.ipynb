{
  "nbformat": 4,
  "nbformat_minor": 0,
  "metadata": {
    "colab": {
      "name": "Cryptocurrency Lottery.ipynb",
      "provenance": [],
      "private_outputs": true,
      "collapsed_sections": []
    },
    "kernelspec": {
      "name": "python3",
      "display_name": "Python 3"
    }
  },
  "cells": [
    {
      "cell_type": "markdown",
      "metadata": {
        "id": "ahN2Nw9ppq2Y",
        "colab_type": "text"
      },
      "source": [
        "# Cryptocurrency Lottery\n",
        "\n",
        "by Jagraj Singh"
      ]
    },
    {
      "cell_type": "markdown",
      "metadata": {
        "id": "LWS6PcBJYSxY",
        "colab_type": "text"
      },
      "source": [
        "### Instructions\n",
        "\n",
        "To play:\n",
        "\n",
        "1.   Sign in with your Google account (required to run cells).\n",
        "2.   Click 'Runtime' > 'Run all' and then 'Run Anyway'.\n",
        "3.   Play by calling the play() function or by instantiating a Play() object.\n",
        "4.   Enjoy!\n"
      ]
    },
    {
      "cell_type": "markdown",
      "metadata": {
        "id": "TTQFY207WTPz",
        "colab_type": "text"
      },
      "source": [
        "### Setup"
      ]
    },
    {
      "cell_type": "code",
      "metadata": {
        "id": "qZa1DEL-qgrm",
        "colab_type": "code",
        "colab": {}
      },
      "source": [
        "#!pip3 install ast\n",
        "#!pip3 install codecs\n",
        "!pip3 install ecdsa\n",
        "#!pip3 install hashlib\n",
        "!pip3 install pycryptodome\n",
        "#!pip3 install requests\n",
        "\n",
        "import ast\n",
        "import codecs\n",
        "import ecdsa\n",
        "from hashlib import sha256\n",
        "from Crypto.Hash import keccak\n",
        "import requests"
      ],
      "execution_count": 0,
      "outputs": []
    },
    {
      "cell_type": "markdown",
      "metadata": {
        "id": "cq9vbuAwWVDK",
        "colab_type": "text"
      },
      "source": [
        "### Functional Approach"
      ]
    },
    {
      "cell_type": "code",
      "metadata": {
        "id": "gHPjBOjHvirx",
        "colab_type": "code",
        "colab": {}
      },
      "source": [
        "\n",
        "def private_key_from_string(msg):\n",
        "    '''\n",
        "    Applies the SHA256 hash function to the input string which creates a cryptocurrency private key.\n",
        "    '''\n",
        "    \n",
        "    private_key = sha256(msg.encode()).hexdigest()\n",
        "    return private_key\n",
        "\n",
        "def public_key_from_private_key(private_key):\n",
        "    '''\n",
        "    Converts the private key to a public key.\n",
        "    '''\n",
        "\n",
        "    private_key_bytes = codecs.decode(private_key, 'hex')\n",
        "    key = ecdsa.SigningKey.from_string(private_key_bytes, curve=ecdsa.SECP256k1).verifying_key\n",
        "    key_bytes = key.to_string()\n",
        "    public_key = codecs.encode(key_bytes, 'hex')\n",
        "    return public_key\n",
        "\n",
        "def address_from_public_key(public_key):\n",
        "    '''\n",
        "    Converts the public key to an Ethereum wallet address with checksum.\n",
        "    '''\n",
        "\n",
        "    public_key_bytes = codecs.decode(public_key, 'hex')\n",
        "    keccak_hash = keccak.new(digest_bits=256)\n",
        "    keccak_hash.update(public_key_bytes)\n",
        "    keccak_digest = keccak_hash.hexdigest()\n",
        "    # Take the last 20 bytes\n",
        "    wallet_len = 40\n",
        "    wallet = '0x' + keccak_digest[-wallet_len:]\n",
        "    return wallet\n",
        "\n",
        "def get_balance(url):\n",
        "    '''\n",
        "    Checks the balance of the Ethereum address using the Etherscan API. \n",
        "    If the balance is 0, you did not win.\n",
        "    If the balance is nonzero, you win!\n",
        "    '''\n",
        "    \n",
        "    try:\n",
        "        response = requests.get(url)\n",
        "        status = response.status_code\n",
        "        if response.status_code == 200:\n",
        "            response = response.text\n",
        "            response = ast.literal_eval(response)\n",
        "            balance = int(response['result'])\n",
        "            return balance * 10**(-18)\n",
        "        else:\n",
        "            print('An error has occurred.')\n",
        "    except:\n",
        "        print('An error has occurred.')\n",
        "    \n",
        "def play():\n",
        "    '''\n",
        "    Asks the user for an input string.\n",
        "    Converts the string to a private key, public key, wallet address, and then checks the balance of that address.\n",
        "    Prints a win/lose statement along with wallet info (balance, address, and private key).\n",
        "    Asks the user if they want to play again.\n",
        "    '''\n",
        "\n",
        "    print('Welcome to the Ethereum Lottery! \\nYour chance of winning is about 1 in 10^70 (essentially zero), but don\\'t let that stop you!')\n",
        "\n",
        "    playing = True\n",
        "    while playing:\n",
        "\n",
        "\n",
        "        msg = input('\\nSimply enter some text and hit Enter: ')\n",
        "        private_key = private_key_from_string(msg)\n",
        "        public_key = public_key_from_private_key(private_key)\n",
        "        address = address_from_public_key(public_key)\n",
        "        api_key = '7Z99TEIBCGR4H7ACKNBU41IUY9QJGTCA82'\n",
        "        url = 'https://api.etherscan.io/api?module=account&action=balance&address=' + address + '&tag=latest&apikey=' + api_key\n",
        "        balance = get_balance(url)\n",
        "        \n",
        "        if balance == 0:\n",
        "            print(\"\\nSorry, you lost...\")\n",
        "        else:\n",
        "            print('Congratulations! You won!')\n",
        "        print('\\nWallet Information', '\\nBalance: ' + str(balance), '\\nAddress: ' + address, '\\nPrivate Key: ' + private_key)\n",
        "\n",
        "        again = input(\"\\nWould you like to play again? Enter 'y' or 'n' \")\n",
        "\n",
        "        if again and again[0].lower() == 'y':\n",
        "            playing = True\n",
        "            continue\n",
        "        else:\n",
        "            print('\\nThanks for playing!')\n",
        "            break\n"
      ],
      "execution_count": 0,
      "outputs": []
    },
    {
      "cell_type": "code",
      "metadata": {
        "id": "IvjPdi6RMCkS",
        "colab_type": "code",
        "colab": {}
      },
      "source": [
        "play()"
      ],
      "execution_count": 0,
      "outputs": []
    },
    {
      "cell_type": "markdown",
      "metadata": {
        "id": "URrOmPtKYFgw",
        "colab_type": "text"
      },
      "source": [
        "### Object Oriented Approach"
      ]
    },
    {
      "cell_type": "code",
      "metadata": {
        "id": "edxqcjofYKzT",
        "colab_type": "code",
        "colab": {}
      },
      "source": [
        "class Play():\n",
        "\n",
        "    def __init__(self, text=''):\n",
        "        self.text = str(text)\n",
        "        self.private_key = self.text_to_priv_key()\n",
        "        self.public_key = self.priv_key_to_pub_key()\n",
        "        self.wallet_address = self.pub_key_to_wall_add()\n",
        "        self.api_key = '7Z99TEIBCGR4H7ACKNBU41IUY9QJGTCA82'\n",
        "        self.url = 'https://api.etherscan.io/api?module=account&action=balance&address=' + \\\n",
        "        (self.wallet_address) + '&tag=latest&apikey=' + self.api_key\n",
        "        self.balance = self.get_balance()\n",
        "\n",
        "        if self.balance == 0:\n",
        "            print('Sorry, you lost. Try again!')\n",
        "        elif self.balance != 0:\n",
        "            print('Congratulations, you won! ' + \\\n",
        "                  str(self.balance) + ' ETH is up for grabs!' + \\\n",
        "                  '\\nCopy the private key: ' + str(self.private_key) )\n",
        "\n",
        "    def text_to_priv_key(self):\n",
        "        '''\n",
        "        Converts the input text to a private key using SHA256.\n",
        "        '''\n",
        "        private_key = sha256(self.text.encode()).hexdigest()\n",
        "        return private_key\n",
        "\n",
        "    def priv_key_to_pub_key(self):\n",
        "        '''\n",
        "        Converts the private key to a public key.\n",
        "        '''\n",
        "        private_key_bytes = codecs.decode(self.private_key, 'hex')\n",
        "        key = ecdsa.SigningKey.from_string(private_key_bytes, curve=ecdsa.SECP256k1).verifying_key\n",
        "        key_bytes = key.to_string()\n",
        "        public_key = codecs.encode(key_bytes, 'hex')\n",
        "        return public_key\n",
        "\n",
        "    def pub_key_to_wall_add(self):\n",
        "        '''\n",
        "        Converts the public key to a wallet address.\n",
        "        '''\n",
        "        public_key_bytes = codecs.decode(self.public_key, 'hex')\n",
        "        keccak_hash = keccak.new(digest_bits=256)\n",
        "        keccak_hash.update(public_key_bytes)\n",
        "        keccak_digest = keccak_hash.hexdigest()\n",
        "        # Take the last 20 bytes\n",
        "        wallet_len = 40\n",
        "        wallet_address = '0x' + keccak_digest[-wallet_len:]\n",
        "        return wallet_address\n",
        "\n",
        "    def get_balance(self): \n",
        "        '''\n",
        "        Checks to see if the Ethereum wallet has a nonzero balance using the EtherScan API.\n",
        "        '''       \n",
        "        try:\n",
        "            response = requests.get(self.url)\n",
        "            status = response.status_code\n",
        "            if response.status_code == 200:\n",
        "                response = response.text\n",
        "                response = ast.literal_eval(response)\n",
        "                balance = int(response['result'])\n",
        "                return balance * 10**(-18)\n",
        "            else:\n",
        "                print('An error has occurred.')\n",
        "        except:\n",
        "            print('An error has occurred.')\n",
        "\n",
        "    def info(self):\n",
        "        '''\n",
        "        Prints important wallet information, such as the private key, which is needed to 'claim' the prize.\n",
        "        '''\n",
        "        print('\\nWallet Information' + \\\n",
        "              '\\nBalance: ' + str(self.balance) + \\\n",
        "              '\\nWallet Address: ' + str(self.wallet_address) + \\\n",
        "              '\\nPrivate Key: ' + str(self.private_key))\n",
        "\n",
        "\n"
      ],
      "execution_count": 0,
      "outputs": []
    },
    {
      "cell_type": "code",
      "metadata": {
        "id": "RyarAODaZlZY",
        "colab_type": "code",
        "colab": {}
      },
      "source": [
        "test = Play()\n",
        "# At the time of writing the default empty string points to a nonzero wallet address!"
      ],
      "execution_count": 0,
      "outputs": []
    },
    {
      "cell_type": "code",
      "metadata": {
        "id": "5rLtJDfqnkeZ",
        "colab_type": "code",
        "colab": {}
      },
      "source": [
        "test.info()"
      ],
      "execution_count": 0,
      "outputs": []
    }
  ]
}