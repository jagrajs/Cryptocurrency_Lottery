{
 "cells": [
  {
   "cell_type": "markdown",
   "metadata": {
    "colab_type": "text",
    "id": "ahN2Nw9ppq2Y"
   },
   "source": [
    "# Cryptocurrency Lottery\n",
    "\n",
    "by Jagraj Singh"
   ]
  },
  {
   "cell_type": "markdown",
   "metadata": {
    "colab_type": "text",
    "id": "LWS6PcBJYSxY"
   },
   "source": [
    "### Instructions\n",
    "\n",
    "To play:\n",
    "\n",
    "1.   Sign in with your Google account (required to run cells).\n",
    "2.   From the toolbar above click 'Runtime' > 'Run all' and then 'Run Anyway'.\n",
    "3.   Expand the 'Play the Ethereum Lottery' section below.\n",
    "4.   Enjoy!\n",
    "\n"
   ]
  },
  {
   "cell_type": "markdown",
   "metadata": {
    "colab_type": "text",
    "id": "TTQFY207WTPz"
   },
   "source": [
    "### Setup"
   ]
  },
  {
   "cell_type": "code",
   "execution_count": 0,
   "metadata": {
    "colab": {},
    "colab_type": "code",
    "id": "qZa1DEL-qgrm"
   },
   "outputs": [],
   "source": [
    "#!pip3 install ast\n",
    "#!pip3 install codecs\n",
    "!pip3 install ecdsa\n",
    "#!pip3 install hashlib\n",
    "!pip3 install pycryptodome\n",
    "#!pip3 install requests\n",
    "\n",
    "import ast\n",
    "import codecs\n",
    "import ecdsa\n",
    "import hashlib\n",
    "from Crypto.Hash import keccak\n",
    "import requests"
   ]
  },
  {
   "cell_type": "markdown",
   "metadata": {
    "colab_type": "text",
    "id": "cq9vbuAwWVDK"
   },
   "source": [
    "### Ethereum Lottery"
   ]
  },
  {
   "cell_type": "code",
   "execution_count": 0,
   "metadata": {
    "colab": {},
    "colab_type": "code",
    "id": "gHPjBOjHvirx"
   },
   "outputs": [],
   "source": [
    "\n",
    "def private_key_from_string(msg):\n",
    "    '''\n",
    "    Applies the SHA256 hash function to the input string which creates a cryptocurrency private key.\n",
    "    '''\n",
    "    \n",
    "    private_key = hashlib.sha256(msg.encode()).hexdigest()\n",
    "    return private_key\n",
    "\n",
    "def public_key_from_private_key(private_key):\n",
    "    '''\n",
    "    Converts the private key to a public key.\n",
    "    '''\n",
    "\n",
    "    private_key_bytes = codecs.decode(private_key, 'hex')\n",
    "    key = ecdsa.SigningKey.from_string(private_key_bytes, curve=ecdsa.SECP256k1).verifying_key\n",
    "    key_bytes = key.to_string()\n",
    "    public_key = codecs.encode(key_bytes, 'hex')\n",
    "    return public_key\n",
    "\n",
    "def address_from_public_key(public_key):\n",
    "    '''\n",
    "    Converts the public key to an Ethereum wallet address with checksum.\n",
    "    '''\n",
    "\n",
    "    public_key_bytes = codecs.decode(public_key, 'hex')\n",
    "    keccak_hash = keccak.new(digest_bits=256)\n",
    "    keccak_hash.update(public_key_bytes)\n",
    "    keccak_digest = keccak_hash.hexdigest()\n",
    "    # Take the last 20 bytes\n",
    "    wallet_len = 40\n",
    "    wallet = '0x' + keccak_digest[-wallet_len:]\n",
    "    return wallet\n",
    "\n",
    "def get_balance(url):\n",
    "    '''\n",
    "    Checks the balance of the Ethereum address using the Etherscan API. \n",
    "    If the balance is 0, you did not win.\n",
    "    If the balance is nonzero, you win!\n",
    "    '''\n",
    "    \n",
    "    try:\n",
    "        response = requests.get(url)\n",
    "        status = response.status_code\n",
    "        if response.status_code == 200:\n",
    "            response = response.text\n",
    "            response = ast.literal_eval(response)\n",
    "            balance = int(response['result'])\n",
    "            return balance\n",
    "        else:\n",
    "            print('An error has occurred.')\n",
    "    except:\n",
    "        print('An error has occurred.')\n",
    "    \n",
    "def play():\n",
    "    '''\n",
    "    Asks the user for an input string.\n",
    "    Converts the string to a private key, public key, wallet address, and then checks the balance of that address.\n",
    "    Prints a win/lose statement along with wallet info (balance, address, and private key).\n",
    "    Asks the user if they want to play again.\n",
    "    '''\n",
    "\n",
    "    print('Welcome to the Ethereum Lottery! \\nYour chance of winning is about 1 in 10^70 (essentially zero), but don\\'t let that stop you!')\n",
    "\n",
    "    playing = True\n",
    "    while playing:\n",
    "\n",
    "\n",
    "        msg = input('\\nSimply enter some text and hit Enter: ')\n",
    "        private_key = private_key_from_string(msg)\n",
    "        public_key = public_key_from_private_key(private_key)\n",
    "        address = address_from_public_key(public_key)\n",
    "        api_key = '7Z99TEIBCGR4H7ACKNBU41IUY9QJGTCA82'\n",
    "        url = 'https://api.etherscan.io/api?module=account&action=balance&address=' + address + '&tag=latest&apikey=' + api_key\n",
    "        balance = get_balance(url)\n",
    "        \n",
    "        if balance == 0:\n",
    "            print(\"\\nSorry, you lost...\")\n",
    "        else:\n",
    "            print('Congratulations! You won!')\n",
    "        print('\\nWallet Information', '\\nBalance: ' + str(balance), '\\nAddress: ' + address, '\\nPrivate Key: ' + private_key)\n",
    "\n",
    "        again = input(\"\\nWould you like to play again? Enter 'y' or 'n' \")\n",
    "\n",
    "        if again and again[0].lower() == 'y':\n",
    "            playing = True\n",
    "            continue\n",
    "        else:\n",
    "            print('Thanks for playing!')\n",
    "            break"
   ]
  },
  {
   "cell_type": "markdown",
   "metadata": {
    "colab_type": "text",
    "id": "q8dguAqGWevK"
   },
   "source": [
    "### Play the Ethereum Lottery"
   ]
  },
  {
   "cell_type": "code",
   "execution_count": 0,
   "metadata": {
    "colab": {},
    "colab_type": "code",
    "id": "qjSP5xXAV0O8"
   },
   "outputs": [],
   "source": [
    "play()"
   ]
  }
 ],
 "metadata": {
  "colab": {
   "collapsed_sections": [],
   "name": "Cryptocurrency Lottery.ipynb",
   "private_outputs": true,
   "provenance": []
  },
  "kernelspec": {
   "display_name": "Python 3",
   "language": "python",
   "name": "python3"
  },
  "language_info": {
   "codemirror_mode": {
    "name": "ipython",
    "version": 3
   },
   "file_extension": ".py",
   "mimetype": "text/x-python",
   "name": "python",
   "nbconvert_exporter": "python",
   "pygments_lexer": "ipython3",
   "version": "3.7.4"
  }
 },
 "nbformat": 4,
 "nbformat_minor": 1
}
