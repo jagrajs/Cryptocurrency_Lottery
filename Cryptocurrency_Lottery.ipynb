{
  "nbformat": 4,
  "nbformat_minor": 0,
  "metadata": {
    "colab": {
      "name": "Cryptocurrency Lottery.ipynb",
      "version": "0.3.2",
      "provenance": [],
      "private_outputs": true,
      "collapsed_sections": [
        "TTQFY207WTPz",
        "cq9vbuAwWVDK",
        "q8dguAqGWevK"
      ],
      "include_colab_link": true
    },
    "kernelspec": {
      "name": "python3",
      "display_name": "Python 3"
    }
  },
  "cells": [
    {
      "cell_type": "markdown",
      "metadata": {
        "id": "view-in-github",
        "colab_type": "text"
      },
      "source": [
        "<a href=\"https://colab.research.google.com/github/jagrajs/Cryptocurrency_Lottery/blob/master/Cryptocurrency_Lottery.ipynb\" target=\"_parent\"><img src=\"https://colab.research.google.com/assets/colab-badge.svg\" alt=\"Open In Colab\"/></a>"
      ]
    },
    {
      "metadata": {
        "id": "ahN2Nw9ppq2Y",
        "colab_type": "text"
      },
      "cell_type": "markdown",
      "source": [
        "# Cryptocurrency Lottery\n",
        "\n",
        "by Jagraj Singh"
      ]
    },
    {
      "metadata": {
        "id": "LWS6PcBJYSxY",
        "colab_type": "text"
      },
      "cell_type": "markdown",
      "source": [
        "### Instructions\n",
        "\n",
        "To play:\n",
        "\n",
        "1.   Sign in with your Google account (required to run cells).\n",
        "2.   Click 'Runtime' > 'Run all' from the toolbar above.\n",
        "3.   Expand the 'Play the Ethereum Lottery' section below.\n",
        "4.   Enjoy!\n",
        "\n"
      ]
    },
    {
      "metadata": {
        "id": "TTQFY207WTPz",
        "colab_type": "text"
      },
      "cell_type": "markdown",
      "source": [
        "### Setup"
      ]
    },
    {
      "metadata": {
        "id": "qZa1DEL-qgrm",
        "colab_type": "code",
        "colab": {}
      },
      "cell_type": "code",
      "source": [
        "!pip3 install pycryptodome\n",
        "!pip3 install ecdsa\n"
      ],
      "execution_count": 0,
      "outputs": []
    },
    {
      "metadata": {
        "id": "cq9vbuAwWVDK",
        "colab_type": "text"
      },
      "cell_type": "markdown",
      "source": [
        "### Ethereum Lottery"
      ]
    },
    {
      "metadata": {
        "id": "gHPjBOjHvirx",
        "colab_type": "code",
        "colab": {}
      },
      "cell_type": "code",
      "source": [
        "import ast\n",
        "import codecs\n",
        "import ecdsa\n",
        "import hashlib\n",
        "from Crypto.Hash import keccak\n",
        "import requests\n",
        "\n",
        "\n",
        "def private_key_from_string(msg):\n",
        "  private_key = hashlib.sha256(msg.encode()).hexdigest()\n",
        "  return(private_key)\n",
        "\n",
        "def public_key_from_private_key(private_key):\n",
        "  private_key_bytes = codecs.decode(private_key, 'hex')\n",
        "  key = ecdsa.SigningKey.from_string(private_key_bytes, curve=ecdsa.SECP256k1).verifying_key\n",
        "  key_bytes = key.to_string()\n",
        "  public_key = codecs.encode(key_bytes, 'hex')\n",
        "  return public_key\n",
        "\n",
        "def address_from_public_key(public_key):\n",
        "  public_key_bytes = codecs.decode(public_key, 'hex')\n",
        "  keccak_hash = keccak.new(digest_bits=256)\n",
        "  keccak_hash.update(public_key_bytes)\n",
        "  keccak_digest = keccak_hash.hexdigest()\n",
        "  # Take the last 20 bytes\n",
        "  wallet_len = 40\n",
        "  wallet = '0x' + keccak_digest[-wallet_len:]\n",
        "  \n",
        "  # Add checksum\n",
        "  checksum = '0x'\n",
        "  address = wallet[2:]\n",
        "  address_byte_array = address.encode('utf-8')\n",
        "  keccak_hash = keccak.new(digest_bits=256)\n",
        "  keccak_hash.update(address_byte_array)\n",
        "  keccak_digest = keccak_hash.hexdigest()\n",
        "  for i in range(len(address)):\n",
        "      address_char = address[i]\n",
        "      keccak_char = keccak_digest[i]\n",
        "      if int(keccak_char, 16) >= 8:\n",
        "          checksum += address_char.upper()\n",
        "      else:\n",
        "          checksum += str(address_char)\n",
        "  return checksum\n",
        "\n",
        "def get_balance(url):\n",
        "  try:\n",
        "    response = requests.get(url)\n",
        "    status = response.status_code\n",
        "    if response.status_code == 200:\n",
        "      response = response.text\n",
        "      response = ast.literal_eval(response)\n",
        "      balance = int(response['result'])\n",
        "      if balance == 0:\n",
        "        print('\\nSorry, you did not win the Ethereum Lottery.')\n",
        "      else:\n",
        "        balance = balance / 10**18\n",
        "        print('Congratulations! You won ' + str(balance) + ' eth!!!\\nCopy the private key below!')\n",
        "    else:\n",
        "      print('An error has occurred.')\n",
        "  except:\n",
        "    print('An error has occurred.')\n",
        "    \n",
        "def play():\n",
        "  msg = input('Welcome to the Ethereum Lottery!\\nYour chance of winning is about 1 in 10^70 (essentially zero), but don\\'t let that stop you!\\nTo play, simply enter some text and hit Enter: ')\n",
        "  private_key = private_key_from_string(msg)\n",
        "  public_key = public_key_from_private_key(private_key)\n",
        "  address = address_from_public_key(public_key)\n",
        "  api_key = '7Z99TEIBCGR4H7ACKNBU41IUY9QJGTCA82'\n",
        "  url = 'https://api.etherscan.io/api?module=account&action=balance&address=' + address + '&tag=latest&apikey=' + api_key\n",
        "  get_balance(url)\n",
        "  print('\\nWallet Information\\nAddress: ' + address + '\\nPrivate Key: ' + private_key)\n"
      ],
      "execution_count": 0,
      "outputs": []
    },
    {
      "metadata": {
        "id": "q8dguAqGWevK",
        "colab_type": "text"
      },
      "cell_type": "markdown",
      "source": [
        "### Play the Ethereum Lottery"
      ]
    },
    {
      "metadata": {
        "colab_type": "code",
        "id": "qjSP5xXAV0O8",
        "colab": {}
      },
      "cell_type": "code",
      "source": [
        "play()"
      ],
      "execution_count": 0,
      "outputs": []
    }
  ]
}